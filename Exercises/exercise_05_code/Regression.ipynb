{
 "cells": [
  {
   "cell_type": "code",
   "execution_count": 1,
   "metadata": {},
   "outputs": [],
   "source": [
    "import numpy as np\n",
    "from scipy import stats\n",
    "import matplotlib.pyplot as plt"
   ]
  },
  {
   "cell_type": "code",
   "execution_count": null,
   "metadata": {},
   "outputs": [],
   "source": []
  },
  {
   "cell_type": "markdown",
   "metadata": {},
   "source": [
    "# Exercise 5: Generalising regression"
   ]
  },
  {
   "cell_type": "markdown",
   "metadata": {},
   "source": [
    "In this exercise you will generalise regression to $N$th order polynomials and use it to predict the price of a house (in Canadian dollars) based on its lot size (in square feet).\n",
    "\n",
    "Suppose you want to buy a house in the City of Windsor, Canada. You contact a real-estate salesperson to get information about current house prices and receive details on 546 properties sold in Windsor in the last two years. You would like to figure out what the expected cost of a house might be given only the lot size of the house you want to buy. Fortunately, his dataset has only one independent variable (i.e. `lotsize`, the lot size of a property) and one dependent variable (i.e. `price`, the sale price of a house). You will train the dataset using polynomial regression to predict the house prices.\n",
    "\n",
    "A polynomial model of order $N$ is defined by:\n",
    "$$\n",
    "\ty = \\theta_0 + \\theta_1 x + \\theta_2 x^2 + \\dots + \\theta_N x^N,\n",
    "$$\n",
    "in which, the coefficients $\\theta_i$ are the parameters of the model. Notice how the function is linear in the parameters, i.e. if $x$ is fixed, the function is linear. To estimate the parameters $\\theta_i$, you can therefore setup a linear equation and solve for $\\theta$:\n",
    "$$\n",
    "\\begin{bmatrix}\n",
    "    1 & x_1 & x_1^2 & x_1^3 & \\dots & x_1^N \\\\\n",
    "    1 & x_2 & x_2^2 & x_2^3 & \\dots & x_2^N \\\\\n",
    "    1 & x_3 & x_3^2 & x_3^3 & \\dots & x_3^N \\\\\n",
    "    \\vdots & \\vdots & \\vdots & \\vdots & \\ddots & \\vdots \\\\\n",
    "    1 & x_m & x_m^2 & x_m^3 & \\dots & x_m^N\n",
    "\\end{bmatrix}\n",
    "\\times\n",
    "\\begin{bmatrix}\n",
    "    \\theta_0 \\\\\n",
    "    \\theta_1 \\\\\n",
    "    \\theta_2 \\\\\n",
    "    \\theta_3 \\\\\n",
    "    \\vdots \\\\\n",
    "    \\theta_N\n",
    "\\end{bmatrix}\n",
    "=\n",
    "\\begin{bmatrix}\n",
    "    y_1 \\\\\n",
    "    y_2 \\\\\n",
    "    y_3 \\\\\n",
    "    \\vdots \\\\\n",
    "    y_m\n",
    "\\end{bmatrix},\n",
    "$$\n",
    "or more compactly: $A \\theta = y$.\n",
    " \n",
    "The  *cost function* $J(\\theta)$ for linear regression is the mean squared error between the known outputs $y_i$ and the predicted outputs $M_{\\theta}(x_i)$ of the model:\n",
    "\\begin{equation}\n",
    "J(\\theta) = \\frac{1}{m}\\sum_{i=1}^{m}(h_{\\theta}(x_{i})-y_{i})^2\n",
    "\\label{eq:CostFunction}\n",
    "\\end{equation}"
   ]
  },
  {
   "cell_type": "markdown",
   "metadata": {},
   "source": [
    "## 5.1 Data exploration\n",
    "\n",
    "We start by loading the dataset described above:"
   ]
  },
  {
   "cell_type": "code",
   "execution_count": 9,
   "metadata": {},
   "outputs": [],
   "source": [
    "filename = \"./inputs/simple_windsor.csv\"\n",
    "names = [\"lotsize\", \"price\"]\n",
    "dataset = np.loadtxt(filename, delimiter=',', dtype=np.int32)\n",
    "\n",
    "X_full, y_full = dataset.T"
   ]
  },
  {
   "cell_type": "code",
   "execution_count": null,
   "metadata": {},
   "outputs": [],
   "source": []
  },
  {
   "cell_type": "code",
   "execution_count": null,
   "metadata": {},
   "outputs": [],
   "source": []
  },
  {
   "cell_type": "code",
   "execution_count": null,
   "metadata": {},
   "outputs": [],
   "source": []
  },
  {
   "cell_type": "markdown",
   "metadata": {},
   "source": [
    "Let us visualise the data:"
   ]
  },
  {
   "cell_type": "code",
   "execution_count": 3,
   "metadata": {},
   "outputs": [
    {
     "data": {
      "image/png": "[encoded data removed]",
      "text/plain": [
       "<Figure size 432x288 with 1 Axes>"
      ]
     },
     "metadata": {
      "needs_background": "light"
     },
     "output_type": "display_data"
    }
   ],
   "source": [
    "plt.scatter(X_full, y_full)\n",
    "plt.xlabel('Lot size')\n",
    "plt.ylabel('House price');"
   ]
  },
  {
   "cell_type": "code",
   "execution_count": null,
   "metadata": {},
   "outputs": [],
   "source": []
  },
  {
   "cell_type": "markdown",
   "metadata": {},
   "source": [
    "This visualisation already tells us a lot about the usefulnes of the data. Try to answer the following questions to the best of your abilities:\n",
    "\n",
    "### Task (A)\n",
    "1. Notice the large spread in house prices for relatively similar lot sizes. Can you relate this to a real-world phenomenon? In other words, is it realistic to expect that the price of a house is determined solely by the lot size?\n",
    "2. Can you imagine other factors that might be useful for modelling house prices?\n",
    "3. Can you think of a method to evaluate how useful a given factor is in predicting the house price?"
   ]
  },
  {
   "cell_type": "markdown",
   "metadata": {},
   "source": [
    "### Splitting into train and test data\n",
    "We use a helper function from the *Scikit Learn* library to split the dataset into $80\\%$ training data and $20\\%$ test data:"
   ]
  },
  {
   "cell_type": "code",
   "execution_count": 20,
   "metadata": {},
   "outputs": [],
   "source": [
    "from sklearn.model_selection import train_test_split\n",
    "\n",
    "X_train, X_test, y_train, y_test = train_test_split(X_full, y_full, test_size=0.2, random_state=42)"
   ]
  },
  {
   "cell_type": "code",
   "execution_count": null,
   "metadata": {},
   "outputs": [],
   "source": []
  },
  {
   "cell_type": "code",
   "execution_count": null,
   "metadata": {},
   "outputs": [],
   "source": []
  },
  {
   "cell_type": "code",
   "execution_count": 25,
   "metadata": {},
   "outputs": [
    {
     "data": {
      "text/plain": [
       "(436,)"
      ]
     },
     "execution_count": 25,
     "metadata": {},
     "output_type": "execute_result"
    }
   ],
   "source": [
    "X_train.shape"
   ]
  },
  {
   "cell_type": "markdown",
   "metadata": {},
   "source": [
    "## 5.2 Generalising regression\n",
    "First, we need to be able to generate design matrices as described above from a single input vector `X`. We provide the function below for creating design matrices for polynomials of arbitrary order:"
   ]
  },
  {
   "cell_type": "code",
   "execution_count": 85,
   "metadata": {},
   "outputs": [
    {
     "data": {
      "text/plain": [
       "array([[ 1.00000000e+00,  8.50000000e+03,  7.22500000e+07,\n",
       "        -5.53233280e+07],\n",
       "       [ 1.00000000e+00,  7.77000000e+03,  6.03729000e+07,\n",
       "         9.45997736e+08],\n",
       "       [ 1.00000000e+00,  6.36000000e+03,  4.04496000e+07,\n",
       "        -4.38581760e+08],\n",
       "       ...,\n",
       "       [ 1.00000000e+00,  3.64000000e+03,  1.32496000e+07,\n",
       "         9.83903744e+08],\n",
       "       [ 1.00000000e+00,  5.30000000e+03,  2.80900000e+07,\n",
       "        -1.44685536e+09],\n",
       "       [ 1.00000000e+00,  4.32000000e+03,  1.86624000e+07,\n",
       "        -9.82810624e+08]])"
      ]
     },
     "execution_count": 85,
     "metadata": {},
     "output_type": "execute_result"
    }
   ],
   "source": [
    "def get_design_matrix(x, order=1):\n",
    "    \"\"\"\n",
    "    Get the coefficients of polynomial in a least square sense of order N.\n",
    "    \"\"\"\n",
    "    if order < 1 or x.ndim != 1:\n",
    "        print(x.ndim)\n",
    "        return dataset\n",
    "\n",
    "    count = x.shape[0]\n",
    "    matrix = np.ones((count, order + 1), np.float64)\n",
    "\n",
    "    for i in range(1, order+1):\n",
    "        matrix[:, i] = np.power(x, i)\n",
    "\n",
    "    return matrix\n",
    "#get_design_matrix(np.array(X_train), 3)"
   ]
  },
  {
   "cell_type": "code",
   "execution_count": null,
   "metadata": {},
   "outputs": [],
   "source": []
  },
  {
   "cell_type": "code",
   "execution_count": null,
   "metadata": {},
   "outputs": [],
   "source": []
  },
  {
   "cell_type": "code",
   "execution_count": null,
   "metadata": {},
   "outputs": [],
   "source": []
  },
  {
   "cell_type": "code",
   "execution_count": null,
   "metadata": {},
   "outputs": [],
   "source": []
  },
  {
   "cell_type": "code",
   "execution_count": null,
   "metadata": {},
   "outputs": [],
   "source": []
  },
  {
   "cell_type": "code",
   "execution_count": null,
   "metadata": {},
   "outputs": [],
   "source": []
  },
  {
   "cell_type": "code",
   "execution_count": null,
   "metadata": {},
   "outputs": [],
   "source": []
  },
  {
   "cell_type": "code",
   "execution_count": null,
   "metadata": {},
   "outputs": [],
   "source": []
  },
  {
   "cell_type": "markdown",
   "metadata": {},
   "source": [
    "### Task (B)\n",
    "1. **Estimate parameters:** Implement the function `estimate(X, y, order)` below. The function should use `np.linalg.lstsq()` to estimate parameters for the model. Use `get_design_matrix(X, order)` to generate an appropriate design matrix."
   ]
  },
  {
   "cell_type": "code",
   "execution_count": 59,
   "metadata": {},
   "outputs": [
    {
     "data": {
      "text/plain": [
       "array([ 1.03598201,  0.96101949,  0.01349325, -0.00149925])"
      ]
     },
     "execution_count": 59,
     "metadata": {},
     "output_type": "execute_result"
    }
   ],
   "source": [
    "def estimate(X, y, order):\n",
    "    model = get_design_matrix(X,order)\n",
    "    return np.linalg.lstsq(model,y, None)[0]\n",
    "estimate(np.array([2,3,4]), np.array([3,4,5]), 3)"
   ]
  },
  {
   "cell_type": "code",
   "execution_count": null,
   "metadata": {},
   "outputs": [],
   "source": []
  },
  {
   "cell_type": "code",
   "execution_count": null,
   "metadata": {},
   "outputs": [],
   "source": []
  },
  {
   "cell_type": "code",
   "execution_count": null,
   "metadata": {},
   "outputs": [],
   "source": []
  },
  {
   "cell_type": "code",
   "execution_count": null,
   "metadata": {},
   "outputs": [],
   "source": []
  },
  {
   "cell_type": "code",
   "execution_count": null,
   "metadata": {},
   "outputs": [],
   "source": []
  },
  {
   "cell_type": "code",
   "execution_count": null,
   "metadata": {},
   "outputs": [],
   "source": []
  },
  {
   "cell_type": "markdown",
   "metadata": {},
   "source": [
    "2. **Model:** Implement the function `linear_model(X, params)` below. It should compute the house price `y` for a given "
   ]
  },
  {
   "cell_type": "code",
   "execution_count": 101,
   "metadata": {},
   "outputs": [],
   "source": [
    "def linear_model(X, params):\n",
    "    return np.dot(X, params.T)\n"
   ]
  },
  {
   "cell_type": "code",
   "execution_count": null,
   "metadata": {},
   "outputs": [],
   "source": []
  },
  {
   "cell_type": "code",
   "execution_count": null,
   "metadata": {},
   "outputs": [],
   "source": []
  },
  {
   "cell_type": "code",
   "execution_count": null,
   "metadata": {},
   "outputs": [],
   "source": []
  },
  {
   "cell_type": "markdown",
   "metadata": {},
   "source": [
    "3. **Prediction:** The variable `values` contains the integer values between the minimum and maximum lot sizes from the dataset. (A) Estimate parameters from `X_train` and `y_train`. (B) Then calculate the predicted `y`-values for `values` using the estimated parameters. (C) Plot the predicted values as a line-plot."
   ]
  },
  {
   "cell_type": "code",
   "execution_count": null,
   "metadata": {},
   "outputs": [],
   "source": []
  },
  {
   "cell_type": "code",
   "execution_count": 112,
   "metadata": {},
   "outputs": [
    {
     "data": {
      "text/plain": [
       "[<matplotlib.lines.Line2D at 0x226c56c13c8>]"
      ]
     },
     "execution_count": 112,
     "metadata": {},
     "output_type": "execute_result"
    },
    {
     "data": {
      "image/png": "[encoded data removed]",
      "text/plain": [
       "<Figure size 432x288 with 1 Axes>"
      ]
     },
     "metadata": {
      "needs_background": "light"
     },
     "output_type": "display_data"
    }
   ],
   "source": [
    "values = np.linspace(X_full.min(), X_full.max(), 50)\n",
    "order = 2\n",
    "# (A) Estimate parameters\n",
    "eParam = estimate(X_train, y_train, order)\n",
    "      \n",
    "# (B) Evaluate model\n",
    "inputX = get_design_matrix(np.array(values), order)\n",
    "\n",
    "linModel = linear_model(inputX, eParam)\n",
    "\n",
    "# Plot training data\n",
    "plt.scatter(X_train, y_train)\n",
    "\n",
    "# (C) Plot predicted values\n",
    "plt.plot(values, linModel, \"r\")"
   ]
  },
  {
   "cell_type": "markdown",
   "metadata": {},
   "source": [
    "4. **Increasing orders:** Try to use higher order polynomials in the estimation and prediction code above. You should see the predictions starting to deviate drastically for orders above 3 or 4. Do you have any idea why this happens? *Hint: It has to do with the behavior of floating point numbers at extreme values.*"
   ]
  },
  {
   "cell_type": "markdown",
   "metadata": {},
   "source": [
    "The above problem can be solved simply by normalizing the *lot sizes*. We provide the following functions for easy normalization and unnormalization:"
   ]
  },
  {
   "cell_type": "code",
   "execution_count": 117,
   "metadata": {},
   "outputs": [],
   "source": [
    "def normalized(X):\n",
    "    n = (X - np.min(X_full))/np.max(X_full)\n",
    "    return n\n",
    "\n",
    "def unnormalized(X):\n",
    "    return X*np.max(X_full) + np.min(X_full)"
   ]
  },
  {
   "cell_type": "markdown",
   "metadata": {},
   "source": [
    "5. **Normalization:** Redo the estimation from task B3 above but with normalized values for `X_train`. Plot the results and experiment with different values for the order. "
   ]
  },
  {
   "cell_type": "code",
   "execution_count": 123,
   "metadata": {},
   "outputs": [
    {
     "data": {
      "text/plain": [
       "[<matplotlib.lines.Line2D at 0x226c593aec8>]"
      ]
     },
     "execution_count": 123,
     "metadata": {},
     "output_type": "execute_result"
    },
    {
     "data": {
      "image/png": "[encoded data removed]",
      "text/plain": [
       "<Figure size 432x288 with 1 Axes>"
      ]
     },
     "metadata": {
      "needs_background": "light"
     },
     "output_type": "display_data"
    }
   ],
   "source": [
    "values = np.linspace(X_full.min(), X_full.max(), 50)\n",
    "\n",
    "order = 8\n",
    "# Estimate parameters and predict y-values\n",
    "eParam = estimate(normalized(X_train), normalized(y_train), order)\n",
    "      \n",
    "# (B) Evaluate model\n",
    "inputX = get_design_matrix(np.array(normalized(values)), order)\n",
    "\n",
    "linModel = linear_model(inputX, eParam)\n",
    "\n",
    "plt.scatter(X_train, y_train, c=\"g\")\n",
    "\n",
    "# Plot predicted values\n",
    "plt.plot(values, unnormalized(linModel), \"r\")\n"
   ]
  },
  {
   "cell_type": "markdown",
   "metadata": {},
   "source": [
    "## 5.3 Evaluation\n",
    "We now want to evaluate the model using the test data. You will calculate the *root mean squarred error* for various orders of polynomials and use the error to decide which order has the best tradeoff between bias and variance (underfitting/overfitting).\n",
    "\n",
    "The *root mean squared error* is simply the square root of the *mean squared error*: \n",
    "$$\n",
    " \\sqrt{\\frac{1}{m}\\sum_{i=1}^{m}(h_{\\theta}(x_{i})-y_{i})^2}\n",
    "$$\n",
    "We use it because it represents the average error in the same units as the data, i.e. house prices in our case.\n"
   ]
  },
  {
   "cell_type": "markdown",
   "metadata": {},
   "source": [
    "### Task (C)\n",
    "1. **Error function:** Implement the `rmse` function below. Remember to normalize the X-values."
   ]
  },
  {
   "cell_type": "code",
   "execution_count": 169,
   "metadata": {},
   "outputs": [
    {
     "name": "stdout",
     "output_type": "stream",
     "text": [
      "23322.118783664337\n",
      "22907.58369559461\n",
      "23002.237526665886\n",
      "23480.86712951224\n"
     ]
    }
   ],
   "source": [
    "def rmse(theta, X, y):\n",
    "    eParam = estimate(normalized(X_train), y_train, theta)\n",
    "    inputX = get_design_matrix(np.array(normalized(X)), theta)\n",
    "    linModel = linear_model(inputX, eParam)\n",
    "    sum = 0.0\n",
    "    for i in range(len(inputX)):\n",
    "        sum += (linModel[i] - y[i])**2\n",
    "    return np.sqrt(sum / len(inputX))\n",
    "\n",
    "print(rmse(1, X_test, y_test) )\n",
    "print(rmse(2, X_test, y_test) )\n",
    "print(rmse(3, X_test, y_test) )\n",
    "print(rmse(14, X_test, y_test) )"
   ]
  },
  {
   "cell_type": "code",
   "execution_count": null,
   "metadata": {},
   "outputs": [],
   "source": []
  },
  {
   "cell_type": "code",
   "execution_count": null,
   "metadata": {},
   "outputs": [],
   "source": []
  },
  {
   "cell_type": "code",
   "execution_count": null,
   "metadata": {},
   "outputs": [],
   "source": []
  },
  {
   "cell_type": "code",
   "execution_count": null,
   "metadata": {},
   "outputs": [],
   "source": []
  },
  {
   "cell_type": "markdown",
   "metadata": {},
   "source": [
    "2. **Test models:** Finish the implementation of `test_models` below. It should estimate parameters for a given order polynomial using the training data and then record the train and test losses using the `rmse` function."
   ]
  },
  {
   "cell_type": "code",
   "execution_count": 186,
   "metadata": {},
   "outputs": [],
   "source": [
    "def test_models():\n",
    "    losses_train = []\n",
    "    losses_test = []\n",
    "    for order in range(1, 20):\n",
    "        # Add code here\n",
    "        \n",
    "        rmse_train = rmse(order, X_train, y_train)\n",
    "        rmse_test  = rmse(order, X_test, y_test)\n",
    "        \n",
    "        losses_train.append(rmse_train)\n",
    "        losses_test.append(rmse_test)\n",
    "    return losses_train, losses_test"
   ]
  },
  {
   "cell_type": "code",
   "execution_count": null,
   "metadata": {},
   "outputs": [],
   "source": []
  },
  {
   "cell_type": "code",
   "execution_count": null,
   "metadata": {},
   "outputs": [],
   "source": []
  },
  {
   "cell_type": "code",
   "execution_count": null,
   "metadata": {},
   "outputs": [],
   "source": []
  },
  {
   "cell_type": "code",
   "execution_count": null,
   "metadata": {},
   "outputs": [],
   "source": []
  },
  {
   "cell_type": "code",
   "execution_count": null,
   "metadata": {},
   "outputs": [],
   "source": []
  },
  {
   "cell_type": "markdown",
   "metadata": {},
   "source": [
    "3. **Plot both losses:** Plot the losses. Are the results what you expected? How does this relate to the dilemma of underfitting and overfitting? "
   ]
  },
  {
   "cell_type": "code",
   "execution_count": 190,
   "metadata": {},
   "outputs": [
    {
     "data": {
      "text/plain": [
       "[<matplotlib.lines.Line2D at 0x226c5b234c8>]"
      ]
     },
     "execution_count": 190,
     "metadata": {},
     "output_type": "execute_result"
    },
    {
     "data": {
      "image/png": "[encoded data removed]",
      "text/plain": [
       "<Figure size 432x288 with 1 Axes>"
      ]
     },
     "metadata": {
      "needs_background": "light"
     },
     "output_type": "display_data"
    }
   ],
   "source": [
    "(losses_train,losses_test) = test_models()\n",
    "losses_delta = np.array(losses_test) - np.array(losses_train)\n",
    "ran =range(1, 20)\n",
    "\n",
    "plt.plot(ran, losses_delta, c=\"b\")\n",
    "# real answer\n",
    "#plt.plot(ran, losses_train, c=\"g\")\n",
    "#plt.plot(ran, losses_test, c=\"r\")"
   ]
  },
  {
   "cell_type": "code",
   "execution_count": null,
   "metadata": {},
   "outputs": [],
   "source": []
  },
  {
   "cell_type": "code",
   "execution_count": null,
   "metadata": {},
   "outputs": [],
   "source": []
  },
  {
   "cell_type": "code",
   "execution_count": null,
   "metadata": {},
   "outputs": [],
   "source": []
  },
  {
   "cell_type": "code",
   "execution_count": null,
   "metadata": {},
   "outputs": [],
   "source": []
  },
  {
   "cell_type": "code",
   "execution_count": null,
   "metadata": {},
   "outputs": [],
   "source": []
  },
  {
   "cell_type": "code",
   "execution_count": null,
   "metadata": {},
   "outputs": [],
   "source": []
  },
  {
   "cell_type": "code",
   "execution_count": null,
   "metadata": {},
   "outputs": [],
   "source": []
  },
  {
   "cell_type": "code",
   "execution_count": null,
   "metadata": {},
   "outputs": [],
   "source": []
  },
  {
   "cell_type": "code",
   "execution_count": null,
   "metadata": {},
   "outputs": [],
   "source": []
  },
  {
   "cell_type": "code",
   "execution_count": null,
   "metadata": {},
   "outputs": [],
   "source": []
  },
  {
   "cell_type": "code",
   "execution_count": null,
   "metadata": {},
   "outputs": [],
   "source": []
  },
  {
   "cell_type": "code",
   "execution_count": null,
   "metadata": {},
   "outputs": [],
   "source": []
  },
  {
   "cell_type": "code",
   "execution_count": null,
   "metadata": {},
   "outputs": [],
   "source": []
  },
  {
   "cell_type": "code",
   "execution_count": null,
   "metadata": {},
   "outputs": [],
   "source": []
  },
  {
   "cell_type": "code",
   "execution_count": null,
   "metadata": {},
   "outputs": [],
   "source": []
  },
  {
   "cell_type": "code",
   "execution_count": null,
   "metadata": {},
   "outputs": [],
   "source": []
  },
  {
   "cell_type": "code",
   "execution_count": null,
   "metadata": {},
   "outputs": [],
   "source": []
  },
  {
   "cell_type": "code",
   "execution_count": null,
   "metadata": {},
   "outputs": [],
   "source": []
  },
  {
   "cell_type": "markdown",
   "metadata": {},
   "source": [
    "### Task (D)\n",
    "1. What does the loss plots tell you about the precision of the models in general?\n",
    "2. Would you be able to improve the test loss to an arbitrary low value using a different model? If yes, explain what model you might use. If no, explain why not."
   ]
  }
 ],
 "metadata": {
  "kernelspec": {
   "display_name": "Python 3",
   "language": "python",
   "name": "python3"
  },
  "language_info": {
   "codemirror_mode": {
    "name": "ipython",
    "version": 3
   },
   "file_extension": ".py",
   "mimetype": "text/x-python",
   "name": "python",
   "nbconvert_exporter": "python",
   "pygments_lexer": "ipython3",
   "version": "3.7.6"
  }
 },
 "nbformat": 4,
 "nbformat_minor": 4
}
