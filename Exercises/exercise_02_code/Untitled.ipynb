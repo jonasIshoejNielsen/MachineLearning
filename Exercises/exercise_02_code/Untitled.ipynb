{
 "cells": [
  {
   "cell_type": "markdown",
   "metadata": {},
   "source": [
    "# Exercise XX\n"
   ]
  },
  {
   "cell_type": "code",
   "execution_count": 1,
   "metadata": {},
   "outputs": [],
   "source": [
    "import matplotlib.pyplot as plt\n",
    "import numpy as np"
   ]
  },
  {
   "cell_type": "markdown",
   "metadata": {},
   "source": [
    "## Array creation\n",
    "We have already shown how to create Numpy arrays directly from Python lists, e.g. `np.array([...])` but a lot of useful methods exist for creating arrays with specific values, randomly, or containing ranges of numbers.\n",
    "\n",
    "* `np.linspace(start, stop, num)` Creates a 1d array with `num` values interpolated from `start` to `stop`\n",
    "* `np.arange(start, stop, step)` Works a bit like linspace, but with fixed spacing between element determined by `step`\n",
    "* `np.ones(shape)`/`np.zeros(shape)` Create an array of size `shape` with all ones or zeros. This is extremely useful for comparisons and masks.\n",
    "* `np.randon.uniform(low, high, size)` Create an array of size `size` with elements drawn from a uniform distribution with minimum=`low` and maximum=`high`.\n",
    "\n",
    "### Task (A)\n",
    "1. Create a Numpy array from a Python list. The list should be 1d and contain 3 elements. Save the array as `array1`.\n",
    "2. Use `np.ones` to create a $3\\times 3$ matrix of all ones. Save the array as `array2`.\n",
    "3. Use `np.random.uniform` to create a $2\\times 2$ matrix of random values. Save the array as `array3`.\n",
    "4. Use `np.linspace` to create an array of 15 elements from 15 (inclusive) to 25 (exclusive). Save the array as `array4`.\n",
    "5. Use `np.arange` to ..."
   ]
  },
  {
   "cell_type": "code",
   "execution_count": 52,
   "metadata": {},
   "outputs": [
    {
     "name": "stdout",
     "output_type": "stream",
     "text": [
      "From list: [2 3 4]\n",
      "np.ones:\n",
      " [[1. 1. 1.]\n",
      " [1. 1. 1.]\n",
      " [1. 1. 1.]]\n",
      "np.random.uniform:\n",
      " [[0.93396071 0.38424438]\n",
      " [0.14067196 0.58488866]]\n",
      "np.linspace: [ 0.  5. 10.]\n",
      "np.arange: [0.  1.6 3.2 4.8 6.4 8.  9.6]\n"
     ]
    }
   ],
   "source": [
    "array1 = np.array([2, 3, 4])\n",
    "array2 = np.ones((3, 3))\n",
    "array3 = np.random.uniform(size=(2, 2))\n",
    "array4 = np.linspace(0, 10, 3)\n",
    "array5 = np.arange(0, 10, 1.6)\n",
    "\n",
    "print('From list:', array1)\n",
    "print('np.ones:\\n', array2)\n",
    "print('np.random.uniform:\\n', array3)\n",
    "print('np.linspace:', array4)\n",
    "print('np.arange:', array5)"
   ]
  },
  {
   "cell_type": "markdown",
   "metadata": {},
   "source": [
    "## Plotting"
   ]
  },
  {
   "cell_type": "code",
   "execution_count": 30,
   "metadata": {},
   "outputs": [
    {
     "data": {
      "text/plain": [
       "<matplotlib.collections.PathCollection at 0x119228a90>"
      ]
     },
     "execution_count": 30,
     "metadata": {},
     "output_type": "execute_result"
    },
    {
     "data": {
      "image/png": "[encoded data removed]",
      "text/plain": [
       "<Figure size 432x288 with 1 Axes>"
      ]
     },
     "metadata": {
      "needs_background": "light"
     },
     "output_type": "display_data"
    }
   ],
   "source": [
    "plt.scatter(x=array_c, y=[0]*10)\n",
    "plt.scatter(array_b, y=[1]*10)\n",
    "plt.scatter(array_a, y=[2]*2)"
   ]
  },
  {
   "cell_type": "code",
   "execution_count": 31,
   "metadata": {},
   "outputs": [],
   "source": [
    "def sigmoid(x):\n",
    "    return 1 / (1 + np.exp(-x))"
   ]
  },
  {
   "cell_type": "code",
   "execution_count": 35,
   "metadata": {},
   "outputs": [
    {
     "data": {
      "text/plain": [
       "[<matplotlib.lines.Line2D at 0x1194b1fd0>]"
      ]
     },
     "execution_count": 35,
     "metadata": {},
     "output_type": "execute_result"
    },
    {
     "data": {
      "image/png": "[encoded data removed]",
      "text/plain": [
       "<Figure size 432x288 with 1 Axes>"
      ]
     },
     "metadata": {
      "needs_background": "light"
     },
     "output_type": "display_data"
    }
   ],
   "source": [
    "s = sigmoid(np.linspace(-10, 10, 50))\n",
    "plt.plot(s)"
   ]
  },
  {
   "cell_type": "code",
   "execution_count": null,
   "metadata": {},
   "outputs": [],
   "source": []
  }
 ],
 "metadata": {
  "kernelspec": {
   "display_name": "Python 3",
   "language": "python",
   "name": "python3"
  },
  "language_info": {
   "codemirror_mode": {
    "name": "ipython",
    "version": 3
   },
   "file_extension": ".py",
   "mimetype": "text/x-python",
   "name": "python",
   "nbconvert_exporter": "python",
   "pygments_lexer": "ipython3",
   "version": "3.7.3"
  }
 },
 "nbformat": 4,
 "nbformat_minor": 4
}
